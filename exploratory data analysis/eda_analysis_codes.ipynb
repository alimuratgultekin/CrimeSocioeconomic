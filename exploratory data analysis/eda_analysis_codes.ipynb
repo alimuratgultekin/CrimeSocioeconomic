{
 "cells": [
  {
   "cell_type": "markdown",
   "id": "ff1d8dff",
   "metadata": {},
   "source": [
    "# 📊 Exploratory Data Analysis (EDA)\n",
    "This notebook performs EDA on the merged dataset to analyze the relationship between crime rates and socioeconomic factors."
   ]
  },
  {
   "cell_type": "code",
   "execution_count": null,
   "id": "11f48947",
   "metadata": {},
   "outputs": [],
   "source": [
    "import pandas as pd\n",
    "import matplotlib.pyplot as plt\n",
    "import seaborn as sns"
   ]
  },
  {
   "cell_type": "markdown",
   "id": "dc0b2c95",
   "metadata": {},
   "source": [
    "## 📂 Load the Merged Dataset"
   ]
  },
  {
   "cell_type": "code",
   "execution_count": null,
   "id": "419b8fbf",
   "metadata": {},
   "outputs": [],
   "source": [
    "data = pd.read_csv('../data/Merged_Crime_Socioeconomic_Data.csv')\n",
    "data.head()"
   ]
  },
  {
   "cell_type": "markdown",
   "id": "3e2302c0",
   "metadata": {},
   "source": [
    "## 📊 Descriptive Statistics"
   ]
  },
  {
   "cell_type": "code",
   "execution_count": null,
   "id": "acefa6ea",
   "metadata": {},
   "outputs": [],
   "source": [
    "data.describe()"
   ]
  },
  {
   "cell_type": "markdown",
   "id": "081d469b",
   "metadata": {},
   "source": [
    "## 🔥 Correlation Heatmap"
   ]
  },
  {
   "cell_type": "code",
   "execution_count": null,
   "id": "d53c3f75",
   "metadata": {},
   "outputs": [],
   "source": [
    "plt.figure(figsize=(10,6))\n",
    "sns.heatmap(data[['Violent_Crime', 'Property_Crime', 'Percent_Bachelors_or_Higher', 'Unemployment_Rate']].corr(), annot=True, cmap='coolwarm')\n",
    "plt.title('Correlation Heatmap')\n",
    "plt.show()"
   ]
  },
  {
   "cell_type": "markdown",
   "id": "2abcc1fd",
   "metadata": {},
   "source": [
    "## 📉 Violent Crime vs. % Bachelor's Degree"
   ]
  },
  {
   "cell_type": "code",
   "execution_count": null,
   "id": "a92aa6a6",
   "metadata": {},
   "outputs": [],
   "source": [
    "plt.figure(figsize=(8,5))\n",
    "sns.scatterplot(x='Percent_Bachelors_or_Higher', y='Violent_Crime', data=data)\n",
    "plt.title(\"Violent Crime vs % Bachelor's Degree\")\n",
    "plt.show()"
   ]
  },
  {
   "cell_type": "markdown",
   "id": "3dd19b0b",
   "metadata": {},
   "source": [
    "## 📉 Property Crime vs. Unemployment Rate"
   ]
  },
  {
   "cell_type": "code",
   "execution_count": null,
   "id": "ba37b42c",
   "metadata": {},
   "outputs": [],
   "source": [
    "plt.figure(figsize=(8,5))\n",
    "sns.scatterplot(x='Unemployment_Rate', y='Property_Crime', data=data)\n",
    "plt.title(\"Property Crime vs Unemployment Rate\")\n",
    "plt.show()"
   ]
  }
 ],
 "metadata": {},
 "nbformat": 4,
 "nbformat_minor": 5
}
